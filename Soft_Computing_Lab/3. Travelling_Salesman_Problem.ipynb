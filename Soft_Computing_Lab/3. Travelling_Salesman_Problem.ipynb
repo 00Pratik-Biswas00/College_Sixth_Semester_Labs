{
 "cells": [
  {
   "cell_type": "code",
   "execution_count": 2,
   "id": "e648ef48",
   "metadata": {},
   "outputs": [
    {
     "name": "stdout",
     "output_type": "stream",
     "text": [
      "Enter the entries row-wise: \n",
      "Min Path: 80\n"
     ]
    }
   ],
   "source": [
    "# Travelling Salesman Problem\n",
    "\n",
    "# user input\n",
    "r = int(input(\"Enter row numbers: \"))\n",
    "c = int(input(\"Enter column numbers: \"))\n",
    "s = 0\n",
    "graph = []\n",
    "\n",
    "print(\"Enter the entries row-wise: \")\n",
    "for i in range(r):\n",
    "    data = []\n",
    "    for j in range(c):\n",
    "        data.append(int(input()))\n",
    "    graph.append(data)\n",
    "    \n",
    "# code\n",
    "from sys import maxsize\n",
    "from itertools import permutations \n",
    "\n",
    "def tsp(graph,s):\n",
    "    v = len(graph)\n",
    "    vertex = []\n",
    "    for i in range(v):\n",
    "        if i!= s:\n",
    "            vertex.append(i)\n",
    "    min_path = maxsize\n",
    "    next_permutation = permutations(vertex)\n",
    "    for i in next_permutation:\n",
    "        current_pathweight = 0\n",
    "        k = s\n",
    "        for j in i:\n",
    "            current_pathweight += graph[k][j]\n",
    "            k = j\n",
    "        current_pathweight += graph[k][s]\n",
    "        min_path = min(min_path, current_pathweight)\n",
    "        \n",
    "    return min_path\n",
    "    \n",
    "\n",
    "print(f\"Min Path: {tsp(graph,s)}\")\n",
    "\n",
    "\n",
    "\n",
    "\n",
    "\n",
    "#                                             --------Explanation-------- \n",
    "\n",
    "# User Input Section:\n",
    "\n",
    "# It asks the user to input the number of rows (r) and columns (c) for a grid.\n",
    "# Then, it asks the user to input the entries for each cell of the grid.\n",
    "\n",
    "# Code Section:\n",
    "\n",
    "# First, it imports necessary functions (maxsize for a large value and permutations for generating permutations).\n",
    "# Then, it defines a function tsp(graph, s) which takes a graph (the grid entered by the user) and a starting vertex s as inputs.\n",
    "# It initializes some variables and creates a list vertex containing all vertices except the starting vertex s.\n",
    "# It sets min_path (minimum path weight) to a very large value initially.\n",
    "# It generates all possible permutations of the vertices except the starting vertex s.\n",
    "# For each permutation, it calculates the total weight of the path.\n",
    "# Finally, it returns the minimum path weight found.\n",
    "\n",
    "# Printing the Result:\n",
    "\n",
    "# It prints the minimum path weight returned by the tsp() function.\n",
    "\n"
   ]
  },
  {
   "cell_type": "code",
   "execution_count": null,
   "id": "d94daa32",
   "metadata": {},
   "outputs": [],
   "source": []
  }
 ],
 "metadata": {
  "kernelspec": {
   "display_name": "Python 3 (ipykernel)",
   "language": "python",
   "name": "python3"
  },
  "language_info": {
   "codemirror_mode": {
    "name": "ipython",
    "version": 3
   },
   "file_extension": ".py",
   "mimetype": "text/x-python",
   "name": "python",
   "nbconvert_exporter": "python",
   "pygments_lexer": "ipython3",
   "version": "3.10.7"
  }
 },
 "nbformat": 4,
 "nbformat_minor": 5
}

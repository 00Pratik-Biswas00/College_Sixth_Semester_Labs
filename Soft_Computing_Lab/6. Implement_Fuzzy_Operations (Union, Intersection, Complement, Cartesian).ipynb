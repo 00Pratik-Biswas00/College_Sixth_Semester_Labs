{
 "cells": [
  {
   "cell_type": "code",
   "execution_count": 1,
   "id": "d97f1f1b",
   "metadata": {},
   "outputs": [
    {
     "name": "stdout",
     "output_type": "stream",
     "text": [
      "The First Fuzzy Set is: {'1 2': '4', '5': '4'}\n",
      "The Second Fuzzy Set is: {'5': '6'}\n",
      "\n",
      "Fuzzy Set Union is : {'5': 6.0, '1 2': 4.0}\n",
      "\n",
      "Fuzzy Set Intersection is : {'5': '4'}\n",
      "\n",
      "Complement of A is:  {'1 2': '-3.00', '5': '-3.00'}\n",
      "Complement of B is:  {'5': '-5.00'}\n",
      "\n",
      "Cartesian product:\n",
      "('1 2', '5') -> 4\n",
      "('5', '5') -> 4\n"
     ]
    }
   ],
   "source": [
    "num_inputs = int(input(\"Enter the number of key-value pairs you want to input for both the sets: \"))\n",
    "\n",
    "def dict_inputs():\n",
    "    user_dict = {}\n",
    "    for i in range(num_inputs):\n",
    "        key = input(\"Enter key: \")\n",
    "        value = input(\"Enter value: \")\n",
    "        user_dict[key] = value\n",
    "    return user_dict\n",
    "\n",
    "\n",
    "A = dict_inputs()\n",
    "print(\"The First Fuzzy Set is:\", A)\n",
    "\n",
    "B = dict_inputs()\n",
    "print(\"The Second Fuzzy Set is:\", B)\n",
    "\n",
    "# union\n",
    "def fuzzy_union(A, B):\n",
    "    union = {}\n",
    "    all_elements = set(A.keys()) | set(B.keys())  # Union of keys from both sets\n",
    "    for elem in all_elements:\n",
    "        val1 = A.get(elem, 0)  # Get membership value from set1, default to 0 if element not present\n",
    "        val2 = B.get(elem, 0)  # Get membership value from set2, default to 0 if element not present\n",
    "        union[elem] = max(float(val1), float(val2))  # Take the maximum membership value for the element\n",
    "    return union\n",
    "\n",
    "print('\\nFuzzy Set Union is :', fuzzy_union(A, B))\n",
    "\n",
    "# intersection\n",
    "def fuzzy_intersection(A, B):\n",
    "    intersection = {}\n",
    "    common_elements = set(A.keys()) & set(B.keys())  # Intersection of keys from both sets\n",
    "    for elem in common_elements:\n",
    "        intersection[elem] = min(A[elem], B[elem])  # Take the minimum membership value for the element\n",
    "    return intersection\n",
    "\n",
    "print('\\nFuzzy Set Intersection is :', fuzzy_intersection(A, B))\n",
    "\n",
    "# complement\n",
    "def complement_func(A):\n",
    "    complement = {}\n",
    "    for A_key in A:\n",
    "        res = 1-float(A[A_key])\n",
    "        complement[A_key]= \"{:.2f}\".format(res)\n",
    "    return  complement\n",
    "\n",
    "print('\\nComplement of A is: ', complement_func(A))\n",
    "print('Complement of B is: ', complement_func(B))\n",
    "\n",
    "# cartesian\n",
    "def cartesian_product(A, B):\n",
    "    cartesian = {}\n",
    "    for elem1, val1 in A.items():\n",
    "        for elem2, val2 in B.items():\n",
    "            cartesian[(elem1, elem2)] = min(val1, val2)\n",
    "    return cartesian\n",
    "\n",
    "cartesian_result = cartesian_product(A, B)\n",
    "\n",
    "print(\"\\nCartesian product:\")\n",
    "for pair, val in cartesian_result.items():\n",
    "    print(pair, \"->\", val)"
   ]
  }
 ],
 "metadata": {
  "kernelspec": {
   "display_name": "Python 3 (ipykernel)",
   "language": "python",
   "name": "python3"
  },
  "language_info": {
   "codemirror_mode": {
    "name": "ipython",
    "version": 3
   },
   "file_extension": ".py",
   "mimetype": "text/x-python",
   "name": "python",
   "nbconvert_exporter": "python",
   "pygments_lexer": "ipython3",
   "version": "3.10.7"
  }
 },
 "nbformat": 4,
 "nbformat_minor": 5
}
